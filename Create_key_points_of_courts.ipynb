{
 "cells": [
  {
   "cell_type": "code",
   "execution_count": 1,
   "id": "af8927dd-20bc-4c9a-9e66-70351060cbe9",
   "metadata": {},
   "outputs": [],
   "source": [
    "import cv2\n",
    "import os\n",
    "import pandas as pd"
   ]
  },
  {
   "cell_type": "code",
   "execution_count": 2,
   "id": "142975ce-d256-4c79-a9dc-29ebdc1b888a",
   "metadata": {},
   "outputs": [],
   "source": [
    "clicks = []\n",
    "def click_event(event, x, y, flags, param):\n",
    "    if event == cv2.EVENT_LBUTTONDOWN:\n",
    "        print(f\"Clicked at: ({x}, {y})\")\n",
    "        clicks.append((x, y))\n",
    "\n",
    "def show_first_frame(name):\n",
    "    '''\n",
    "    Shows the first frame from a video\n",
    "    Name is the video name\n",
    "    '''\n",
    "\n",
    "    window_name = 'find points'\n",
    "    \n",
    "    cap = cv2.VideoCapture(target + name + '.mp4')\n",
    "\n",
    "    # resize window\n",
    "    initial_width = 1920//2\n",
    "    initial_height = 1080//2\n",
    "\n",
    "    cv2.namedWindow(window_name, cv2.WINDOW_NORMAL)\n",
    "        \n",
    "    # Calculate screen resolution\n",
    "    screen_width = cap.get(cv2.CAP_PROP_FRAME_WIDTH)\n",
    "    screen_height = cap.get(cv2.CAP_PROP_FRAME_HEIGHT)\n",
    "    \n",
    "    # Calculate window position to center it on the screen\n",
    "    window_x = int((screen_width - initial_width) / 2)\n",
    "    window_y = int((screen_height - initial_height) / 2) - 200\n",
    "    \n",
    "    # Set window position\n",
    "    cv2.moveWindow(window_name, window_x, window_y)\n",
    "    \n",
    "    cv2.resizeWindow(window_name, initial_width, initial_height)\n",
    "\n",
    "    cv2.namedWindow(window_name)\n",
    "    cv2.setMouseCallback(window_name, click_event)\n",
    "\n",
    "    # set ot first frame\n",
    "    cap.set(1,0)\n",
    "    ret, img = cap.read()\n",
    "\n",
    "    cv2.imshow(window_name, img)\n",
    "    prev_clicks = len(clicks)\n",
    "    print(prev_clicks)\n",
    "    while cap.isOpened():\n",
    "        if cv2.waitKey(1) & 0xFF == ord('q'):\n",
    "            break\n",
    "\n",
    "        if len(clicks) == 6:\n",
    "            break\n",
    "        prev_clicks = len(clicks)\n",
    "\n",
    "    cap.release()\n",
    "    "
   ]
  },
  {
   "cell_type": "code",
   "execution_count": 3,
   "id": "16b201a9-24d5-491d-9674-8d07ee5c87a1",
   "metadata": {},
   "outputs": [
    {
     "name": "stdout",
     "output_type": "stream",
     "text": [
      "0\n",
      "Clicked at: (417, 332)\n",
      "Clicked at: (865, 332)\n",
      "Clicked at: (331, 479)\n",
      "Clicked at: (961, 487)\n",
      "Clicked at: (287, 552)\n",
      "Clicked at: (995, 559)\n"
     ]
    }
   ],
   "source": [
    "target = 'target/lets/'\n",
    "video = \"Squash Refereeing： Ali Farag v Mohamed Abouelghar - Yes let [hMTkWkz8nRs]0\"\n",
    "show_first_frame(video)\n",
    "cv2.destroyAllWindows()"
   ]
  },
  {
   "cell_type": "code",
   "execution_count": 4,
   "id": "989c2be1-0dcb-4368-a4d6-6343dd563fb9",
   "metadata": {},
   "outputs": [
    {
     "name": "stdout",
     "output_type": "stream",
     "text": [
      "target/lets/\n",
      "0\n"
     ]
    },
    {
     "ename": "NameError",
     "evalue": "name 'new_df' is not defined",
     "output_type": "error",
     "traceback": [
      "\u001b[1;31m---------------------------------------------------------------------------\u001b[0m",
      "\u001b[1;31mNameError\u001b[0m                                 Traceback (most recent call last)",
      "Cell \u001b[1;32mIn[4], line 16\u001b[0m\n\u001b[0;32m     14\u001b[0m clicks\u001b[38;5;241m.\u001b[39mappend(name)\n\u001b[0;32m     15\u001b[0m \u001b[38;5;66;03m#new_df = pd.DataFrame([clicks], columns=columns)\u001b[39;00m\n\u001b[1;32m---> 16\u001b[0m df \u001b[38;5;241m=\u001b[39m pd\u001b[38;5;241m.\u001b[39mconcat([df, \u001b[43mnew_df\u001b[49m], ignore_index\u001b[38;5;241m=\u001b[39m\u001b[38;5;28;01mTrue\u001b[39;00m)\n\u001b[0;32m     17\u001b[0m \u001b[38;5;66;03m#print(df)\u001b[39;00m\n\u001b[0;32m     18\u001b[0m \u001b[38;5;28mprint\u001b[39m(clicks)\n",
      "\u001b[1;31mNameError\u001b[0m: name 'new_df' is not defined"
     ]
    }
   ],
   "source": [
    "parent_folder = 'target/'\n",
    "subfolders = [folder for folder in os.listdir(parent_folder)]\n",
    "columns = ['top left', 'top right', 'serv left', 'serv right', 'box left', 'box right', 'name']\n",
    "df = pd.DataFrame(columns = columns)\n",
    "clicks = []\n",
    "for folder in subfolders:\n",
    "    target = 'target/' + folder +'/'\n",
    "    print(target)\n",
    "    # List all files in the current subfolder\n",
    "    files = os.listdir(target)\n",
    "    for f in files:\n",
    "        name = f.split('.')[0]\n",
    "        show_first_frame(name)\n",
    "        clicks.append(name)\n",
    "        #new_df = pd.DataFrame([clicks], columns=columns)\n",
    "        df = pd.concat([df, new_df], ignore_index=True)\n",
    "        #print(df)\n",
    "        print(clicks)\n",
    "        clicks = []\n",
    "        \n",
    "cv2.destroyAllWindows()"
   ]
  },
  {
   "cell_type": "code",
   "execution_count": 81,
   "id": "a215c17d-2795-4a4f-9283-8ac9260df102",
   "metadata": {},
   "outputs": [],
   "source": [
    "df.to_csv('court_pos.csv', index=False)"
   ]
  },
  {
   "cell_type": "code",
   "execution_count": 5,
   "id": "4aed9f3c-7786-4ef5-a924-cde6c52efb95",
   "metadata": {},
   "outputs": [],
   "source": [
    "cv2.destroyAllWindows()"
   ]
  },
  {
   "cell_type": "code",
   "execution_count": 82,
   "id": "b289917b-d0ca-433e-9aa7-bb55c76846d6",
   "metadata": {},
   "outputs": [],
   "source": [
    "df2 = pd.read_csv('court_pos.csv')"
   ]
  },
  {
   "cell_type": "code",
   "execution_count": 131,
   "id": "2cdbd171-61c5-4c7c-9ee5-7650f9dc8f6f",
   "metadata": {},
   "outputs": [
    {
     "data": {
      "text/html": [
       "<div>\n",
       "<style scoped>\n",
       "    .dataframe tbody tr th:only-of-type {\n",
       "        vertical-align: middle;\n",
       "    }\n",
       "\n",
       "    .dataframe tbody tr th {\n",
       "        vertical-align: top;\n",
       "    }\n",
       "\n",
       "    .dataframe thead th {\n",
       "        text-align: right;\n",
       "    }\n",
       "</style>\n",
       "<table border=\"1\" class=\"dataframe\">\n",
       "  <thead>\n",
       "    <tr style=\"text-align: right;\">\n",
       "      <th></th>\n",
       "      <th>top left</th>\n",
       "      <th>top right</th>\n",
       "      <th>serv left</th>\n",
       "      <th>serv right</th>\n",
       "      <th>box left</th>\n",
       "      <th>box right</th>\n",
       "      <th>name</th>\n",
       "    </tr>\n",
       "  </thead>\n",
       "  <tbody>\n",
       "    <tr>\n",
       "      <th>0</th>\n",
       "      <td>(415, 333)</td>\n",
       "      <td>(861, 336)</td>\n",
       "      <td>(329, 484)</td>\n",
       "      <td>(952, 487)</td>\n",
       "      <td>(288, 552)</td>\n",
       "      <td>(992, 560)</td>\n",
       "      <td>Squash Refereeing： Ali Farag v Mohamed Abouelg...</td>\n",
       "    </tr>\n",
       "    <tr>\n",
       "      <th>1</th>\n",
       "      <td>(417, 331)</td>\n",
       "      <td>(861, 336)</td>\n",
       "      <td>(328, 484)</td>\n",
       "      <td>(953, 487)</td>\n",
       "      <td>(285, 552)</td>\n",
       "      <td>(996, 559)</td>\n",
       "      <td>Squash Refereeing： Asal v James - Yes Let [YEb...</td>\n",
       "    </tr>\n",
       "    <tr>\n",
       "      <th>2</th>\n",
       "      <td>(344, 429)</td>\n",
       "      <td>(936, 431)</td>\n",
       "      <td>(257, 576)</td>\n",
       "      <td>(1015, 571)</td>\n",
       "      <td>(220, 635)</td>\n",
       "      <td>(1052, 632)</td>\n",
       "      <td>Squash Refereeing： Coll v Farag - Yes Let [YcA...</td>\n",
       "    </tr>\n",
       "    <tr>\n",
       "      <th>3</th>\n",
       "      <td>(417, 331)</td>\n",
       "      <td>(861, 331)</td>\n",
       "      <td>(325, 480)</td>\n",
       "      <td>(951, 484)</td>\n",
       "      <td>(283, 552)</td>\n",
       "      <td>(991, 557)</td>\n",
       "      <td>Squash Refereeing： Coll v Mueller - Yes Let [A...</td>\n",
       "    </tr>\n",
       "    <tr>\n",
       "      <th>4</th>\n",
       "      <td>(411, 347)</td>\n",
       "      <td>(871, 348)</td>\n",
       "      <td>(321, 501)</td>\n",
       "      <td>(960, 500)</td>\n",
       "      <td>(279, 573)</td>\n",
       "      <td>(1000, 575)</td>\n",
       "      <td>Squash Refereeing： Declan James v Mostafa Asal...</td>\n",
       "    </tr>\n",
       "  </tbody>\n",
       "</table>\n",
       "</div>"
      ],
      "text/plain": [
       "     top left   top right   serv left   serv right    box left    box right  \\\n",
       "0  (415, 333)  (861, 336)  (329, 484)   (952, 487)  (288, 552)   (992, 560)   \n",
       "1  (417, 331)  (861, 336)  (328, 484)   (953, 487)  (285, 552)   (996, 559)   \n",
       "2  (344, 429)  (936, 431)  (257, 576)  (1015, 571)  (220, 635)  (1052, 632)   \n",
       "3  (417, 331)  (861, 331)  (325, 480)   (951, 484)  (283, 552)   (991, 557)   \n",
       "4  (411, 347)  (871, 348)  (321, 501)   (960, 500)  (279, 573)  (1000, 575)   \n",
       "\n",
       "                                                name  \n",
       "0  Squash Refereeing： Ali Farag v Mohamed Abouelg...  \n",
       "1  Squash Refereeing： Asal v James - Yes Let [YEb...  \n",
       "2  Squash Refereeing： Coll v Farag - Yes Let [YcA...  \n",
       "3  Squash Refereeing： Coll v Mueller - Yes Let [A...  \n",
       "4  Squash Refereeing： Declan James v Mostafa Asal...  "
      ]
     },
     "execution_count": 131,
     "metadata": {},
     "output_type": "execute_result"
    }
   ],
   "source": [
    "df2.head()"
   ]
  },
  {
   "cell_type": "code",
   "execution_count": 132,
   "id": "467a38c1-9ff8-4578-9f26-bbd822ad0d12",
   "metadata": {},
   "outputs": [
    {
     "data": {
      "text/html": [
       "<div>\n",
       "<style scoped>\n",
       "    .dataframe tbody tr th:only-of-type {\n",
       "        vertical-align: middle;\n",
       "    }\n",
       "\n",
       "    .dataframe tbody tr th {\n",
       "        vertical-align: top;\n",
       "    }\n",
       "\n",
       "    .dataframe thead th {\n",
       "        text-align: right;\n",
       "    }\n",
       "</style>\n",
       "<table border=\"1\" class=\"dataframe\">\n",
       "  <thead>\n",
       "    <tr style=\"text-align: right;\">\n",
       "      <th></th>\n",
       "      <th>top left</th>\n",
       "      <th>top right</th>\n",
       "      <th>serv left</th>\n",
       "      <th>serv right</th>\n",
       "      <th>box left</th>\n",
       "      <th>box right</th>\n",
       "      <th>name</th>\n",
       "    </tr>\n",
       "  </thead>\n",
       "  <tbody>\n",
       "    <tr>\n",
       "      <th>10</th>\n",
       "      <td>(343, 432)</td>\n",
       "      <td>(935, 429)</td>\n",
       "      <td>(259, 577)</td>\n",
       "      <td>(1019, 572)</td>\n",
       "      <td>(223, 636)</td>\n",
       "      <td>(1052, 632)</td>\n",
       "      <td>Squash Refereeing： Sobhy v King - Yes Let [Fhu...</td>\n",
       "    </tr>\n",
       "  </tbody>\n",
       "</table>\n",
       "</div>"
      ],
      "text/plain": [
       "      top left   top right   serv left   serv right    box left    box right  \\\n",
       "10  (343, 432)  (935, 429)  (259, 577)  (1019, 572)  (223, 636)  (1052, 632)   \n",
       "\n",
       "                                                 name  \n",
       "10  Squash Refereeing： Sobhy v King - Yes Let [Fhu...  "
      ]
     },
     "execution_count": 132,
     "metadata": {},
     "output_type": "execute_result"
    }
   ],
   "source": [
    "df2[df2['name'] == 'Squash Refereeing： Sobhy v King - Yes Let [Fhuz2FIDcz4]0']"
   ]
  },
  {
   "cell_type": "code",
   "execution_count": 97,
   "id": "52898dbc-b2a2-48bf-9b56-bcb262d09ddc",
   "metadata": {},
   "outputs": [],
   "source": [
    "def get_x(x):\n",
    "    x = x.split(',')\n",
    "    return int(x[0][1:])\n",
    "\n",
    "def get_y(x):\n",
    "    x = x.split(',')\n",
    "    return int(x[1][:-1])"
   ]
  },
  {
   "cell_type": "code",
   "execution_count": 121,
   "id": "4bf9c55e-1d6e-4b51-a0f3-8724480bcf66",
   "metadata": {},
   "outputs": [],
   "source": [
    "def get_x_y(cols, name):\n",
    "    x = []\n",
    "    y = []\n",
    "    row = df2.loc[df2['name'] == name].index[0]\n",
    "    for col in cols:\n",
    "        x.append(get_x(df2[col][row]))\n",
    "        y.append(get_y(df2[col][row]))\n",
    "    return x, y"
   ]
  },
  {
   "cell_type": "code",
   "execution_count": 110,
   "id": "a914cf08-132c-47e3-a5a3-ddfa2d6feab7",
   "metadata": {},
   "outputs": [
    {
     "name": "stdout",
     "output_type": "stream",
     "text": [
      "(415, 333)\n",
      "(861, 336)\n",
      "(329, 484)\n",
      "(952, 487)\n"
     ]
    }
   ],
   "source": [
    "# top left top right mid left mid right\n",
    "corners = ['top left', 'top right', 'serv left', 'serv right']\n",
    "cornersX = []\n",
    "cornersY = []\n",
    "for corner in corners:\n",
    "    print(df2[corner][0])\n",
    "    cornersX.append(get_x(df2[corner][0]))\n",
    "    cornersY.append(get_y(df2[corner][0]))\n",
    "\n",
    "\n"
   ]
  },
  {
   "cell_type": "code",
   "execution_count": 128,
   "id": "05883096-a4c7-4d59-b5f9-9d5a62734742",
   "metadata": {},
   "outputs": [],
   "source": [
    "cornersX, cornersY = get_x_y(corners, 'test0')\n",
    "serv_boxX, serv_boxY = get_x_y(['serv left', 'serv right', 'box left', 'box right'], 'test0')\n",
    "serv_frontX, serv_frontY = get_x_y(['top left', 'top right', 'box left', 'box right'], 'test0')"
   ]
  },
  {
   "cell_type": "code",
   "execution_count": 130,
   "id": "577fefae-d6e5-49db-b468-e19769a9a210",
   "metadata": {},
   "outputs": [
    {
     "data": {
      "text/plain": [
       "[458, 1482, 366, 1568]"
      ]
     },
     "execution_count": 130,
     "metadata": {},
     "output_type": "execute_result"
    }
   ],
   "source": [
    "serv_boxX"
   ]
  },
  {
   "cell_type": "code",
   "execution_count": null,
   "id": "f7093d89-ca14-47ee-8027-883a81386a50",
   "metadata": {},
   "outputs": [],
   "source": [
    "front_serv = [df2[corner].apply(get_x) for corner in cornersX]\n",
    "tly = df2['top left'].apply(get_y)"
   ]
  },
  {
   "cell_type": "code",
   "execution_count": null,
   "id": "99ec7787-d37a-4e42-b964-916216ad14d2",
   "metadata": {},
   "outputs": [],
   "source": []
  }
 ],
 "metadata": {
  "kernelspec": {
   "display_name": "diss",
   "language": "python",
   "name": "diss"
  },
  "language_info": {
   "codemirror_mode": {
    "name": "ipython",
    "version": 3
   },
   "file_extension": ".py",
   "mimetype": "text/x-python",
   "name": "python",
   "nbconvert_exporter": "python",
   "pygments_lexer": "ipython3",
   "version": "3.9.7"
  }
 },
 "nbformat": 4,
 "nbformat_minor": 5
}
